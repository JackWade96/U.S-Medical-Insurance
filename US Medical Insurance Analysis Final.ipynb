{
 "cells": [
  {
   "cell_type": "code",
   "execution_count": 4,
   "id": "e477dcff",
   "metadata": {},
   "outputs": [],
   "source": [
    "import csv\n",
    "import numpy as np"
   ]
  },
  {
   "cell_type": "code",
   "execution_count": 15,
   "id": "44b59b34",
   "metadata": {},
   "outputs": [
    {
     "name": "stdout",
     "output_type": "stream",
     "text": [
      "39.20702541106129\n",
      "325 324 325 364\n",
      "Counter({'southeast': 364, 'southwest': 325, 'northwest': 325, 'northeast': 324})\n"
     ]
    }
   ],
   "source": [
    "def create_data_lists(fname):\n",
    "    \"\"\"Create lists of data from csv file\"\"\"\n",
    "    ages = []\n",
    "    regions = []\n",
    "    charges = []\n",
    "    sex = []\n",
    "    \n",
    "    with open(fname, 'r') as f:\n",
    "        insurance = csv.DictReader(f)\n",
    "        for row in insurance:\n",
    "            age_row = row\n",
    "            ages.append(age_row['age'])\n",
    "            regions.append(age_row['region'])\n",
    "            charges.append(age_row['charges'])\n",
    "            sex.append(age_row['sex'])\n",
    "    return ages, regions, charges, sex\n",
    "\n",
    "\n",
    "def average_age(ages):\n",
    "    \"\"\"Average age of all patients or whatever\"\"\"\n",
    "    total_ages = 0\n",
    "    for age in ages:\n",
    "        age = int(age)\n",
    "        total_ages += age\n",
    "    average_age = total_ages / len(ages)\n",
    "    return average_age\n",
    "    \n",
    "\n",
    "ages, regions, charges, sex = create_data_lists('insurance.csv')\n",
    "    \n",
    "len(ages)\n",
    "\n",
    "\n",
    "print(average_age(ages))\n",
    "Northwest_count = regions.count('northwest')\n",
    "Northeast_count = regions.count('northeast')\n",
    "Southwest_count = regions.count('southwest')\n",
    "Southeast_count = regions.count('southeast')\n",
    "print(Northwest_count, Northeast_count, Southwest_count, Southeast_count)\n",
    "\n",
    "from collections import Counter\n",
    "region_num_dict = Counter(regions)\n",
    "print(region_num_dict)\n"
   ]
  },
  {
   "cell_type": "code",
   "execution_count": 6,
   "id": "0d99ec0e",
   "metadata": {},
   "outputs": [
    {
     "name": "stdout",
     "output_type": "stream",
     "text": [
      "23615.96353367665\n"
     ]
    }
   ],
   "source": [
    "smokers = []\n",
    "non_smokers = []\n",
    "with open('insurance.csv', 'r') as insurance_obj:\n",
    "    insurance = csv.DictReader(insurance_obj)\n",
    "    for row in insurance:\n",
    "        if row['smoker'] == 'yes':\n",
    "            smokers.append(row)\n",
    "        else: non_smokers.append(row)\n",
    "\n",
    "def average_smoker_cost(smokers):\n",
    "    num_of_smokers = len(smokers)\n",
    "    smokers_total_charges = 0\n",
    "    for patient in smokers:\n",
    "        smokers_total_charges += float(patient['charges'])\n",
    "    return smokers_total_charges / num_of_smokers\n",
    "\n",
    "average_smoker_cost(smokers)\n",
    "\n",
    "def average_non_smoker_cost(non_smokers):\n",
    "    num_of_non_smokers = len(non_smokers)\n",
    "    non_smokers_total_charges = 0\n",
    "    for patient in non_smokers:\n",
    "        non_smokers_total_charges += float(patient['charges'])\n",
    "    \n",
    "    return non_smokers_total_charges / num_of_non_smokers\n",
    "    \n",
    "av_smoking_difference = average_smoker_cost(smokers) - average_non_smoker_cost(non_smokers)\n",
    "print(av_smoking_difference)"
   ]
  },
  {
   "cell_type": "code",
   "execution_count": 7,
   "id": "9cb3a056",
   "metadata": {},
   "outputs": [],
   "source": [
    "regions_charges = [[key, value] for key, value in zip(regions, charges)]"
   ]
  },
  {
   "cell_type": "code",
   "execution_count": 8,
   "id": "4fbb43d0",
   "metadata": {},
   "outputs": [
    {
     "name": "stdout",
     "output_type": "stream",
     "text": [
      "{'Southwest': 12346.937377292308, 'Southeast': 14735.411437609888, 'Northwest': 12417.57537396923, 'Northeast': 13544.04046813327}\n",
      "Southeast\n"
     ]
    }
   ],
   "source": [
    "southwest_charges = []\n",
    "southeast_charges = []\n",
    "northwest_charges = []\n",
    "northeast_charges = []\n",
    "for item in regions_charges:\n",
    "    if item[0] == 'southwest':\n",
    "        southwest_charges.append(float(item[1]))\n",
    "    if item[0] == 'southeast':\n",
    "        southeast_charges.append(float(item[1]))\n",
    "    if item[0] == 'northwest':\n",
    "        northwest_charges.append(float(item[1]))\n",
    "    else: northeast_charges.append(float(item[1]))\n",
    "\n",
    "average_southwest = np.mean(southwest_charges)\n",
    "average_southeast = np.mean(southeast_charges)\n",
    "average_northwest = np.mean(northwest_charges)\n",
    "average_northeast = np.mean(northeast_charges)\n",
    "\n",
    "regions_dict = {}\n",
    "regions_dict['Southwest'] = average_southwest\n",
    "regions_dict['Southeast'] = average_southeast\n",
    "regions_dict['Northwest'] = average_northwest\n",
    "regions_dict['Northeast'] = average_northeast\n",
    "print(regions_dict)\n",
    "most_expensive_region = 'Northwest'\n",
    "for region in regions_dict:\n",
    "    if regions_dict[region] > regions_dict[most_expensive_region]:\n",
    "        most_expensive_region = region\n",
    "most_expensive_region = max(regions_dict, key=lambda x: regions_dict[x])\n",
    "print(most_expensive_region)"
   ]
  },
  {
   "cell_type": "code",
   "execution_count": 16,
   "id": "e19c3dc2",
   "metadata": {},
   "outputs": [],
   "source": [
    "charges_by_sex = [[key, value] for key, value in zip(sex, charges)]\n",
    "def average_by_sex(charges_by_sex):\n",
    "    males = []\n",
    "    females = []\n",
    "    for item in charges_by_sex:\n",
    "        if item[0] == 'male':\n",
    "            cost = float(item[1])\n",
    "            males.append(cost)\n",
    "        elif item[0] == 'female':\n",
    "            cost = float(item[1])\n",
    "            females.append(cost)\n",
    "    return males, females    "
   ]
  },
  {
   "cell_type": "code",
   "execution_count": 10,
   "id": "7c00982c",
   "metadata": {},
   "outputs": [],
   "source": [
    "males, females = average_by_sex(charges_by_sex)\n",
    "average_male_cost = np.mean(males)\n",
    "average_female_cost = np.mean(females)\n"
   ]
  },
  {
   "cell_type": "code",
   "execution_count": 11,
   "id": "ad24f24f",
   "metadata": {},
   "outputs": [],
   "source": [
    "difference_in_sex_cost = average_male_cost - average_female_cost"
   ]
  },
  {
   "cell_type": "code",
   "execution_count": 12,
   "id": "1cae4cd6",
   "metadata": {},
   "outputs": [
    {
     "name": "stdout",
     "output_type": "stream",
     "text": [
      "1387.1723338865468\n"
     ]
    }
   ],
   "source": [
    "print(difference_in_sex_cost)"
   ]
  },
  {
   "cell_type": "code",
   "execution_count": null,
   "id": "24f20864",
   "metadata": {},
   "outputs": [],
   "source": []
  }
 ],
 "metadata": {
  "kernelspec": {
   "display_name": "Python 3 (ipykernel)",
   "language": "python",
   "name": "python3"
  },
  "language_info": {
   "codemirror_mode": {
    "name": "ipython",
    "version": 3
   },
   "file_extension": ".py",
   "mimetype": "text/x-python",
   "name": "python",
   "nbconvert_exporter": "python",
   "pygments_lexer": "ipython3",
   "version": "3.9.13"
  }
 },
 "nbformat": 4,
 "nbformat_minor": 5
}
